{
 "cells": [
  {
   "cell_type": "markdown",
   "metadata": {
    "pycharm": {
     "name": "#%% md\n"
    }
   },
   "source": [
    "# SIMCCT User Analytics\n"
   ]
  },
  {
   "cell_type": "code",
   "execution_count": 50,
   "metadata": {},
   "outputs": [],
   "source": [
    "# imports\n",
    "from os import environ as env\n",
    "\n",
    "from bson.son import SON\n",
    "from pymongo import MongoClient\n",
    "import pandas as pd"
   ]
  },
  {
   "cell_type": "code",
   "execution_count": 33,
   "metadata": {},
   "outputs": [],
   "source": [
    "conn = MongoClient(env.get('MONGO_URI'))\n",
    "\n",
    "db_name = 'arc_dev'\n",
    "collection = 'users'\n",
    "db = conn[db_name]"
   ]
  },
  {
   "cell_type": "code",
   "execution_count": 34,
   "metadata": {},
   "outputs": [
    {
     "data": {
      "text/plain": [
       "Database(MongoClient(host=['mongodb:27017'], document_class=dict, tz_aware=False, connect=True), 'arc_dev')"
      ]
     },
     "execution_count": 34,
     "metadata": {},
     "output_type": "execute_result"
    }
   ],
   "source": [
    "db"
   ]
  },
  {
   "cell_type": "code",
   "execution_count": 62,
   "metadata": {},
   "outputs": [],
   "source": [
    "cursor = db[collection].find({'profile': {'$exists': True}}, projection={'password': 0, '_id': False})\n",
    "df = pd.DataFrame(list(cursor))"
   ]
  },
  {
   "cell_type": "code",
   "execution_count": 63,
   "metadata": {},
   "outputs": [
    {
     "data": {
      "text/html": [
       "<div>\n",
       "<style scoped>\n",
       "    .dataframe tbody tr th:only-of-type {\n",
       "        vertical-align: middle;\n",
       "    }\n",
       "\n",
       "    .dataframe tbody tr th {\n",
       "        vertical-align: top;\n",
       "    }\n",
       "\n",
       "    .dataframe thead th {\n",
       "        text-align: right;\n",
       "    }\n",
       "</style>\n",
       "<table border=\"1\" class=\"dataframe\">\n",
       "  <thead>\n",
       "    <tr style=\"text-align: right;\">\n",
       "      <th></th>\n",
       "      <th>email</th>\n",
       "      <th>first_name</th>\n",
       "      <th>last_name</th>\n",
       "      <th>profile</th>\n",
       "      <th>admin_profile</th>\n",
       "      <th>saved_alloys</th>\n",
       "      <th>active</th>\n",
       "      <th>admin</th>\n",
       "      <th>disable_admin</th>\n",
       "      <th>verified</th>\n",
       "      <th>created</th>\n",
       "      <th>last_updated</th>\n",
       "      <th>ratings</th>\n",
       "      <th>login_data</th>\n",
       "    </tr>\n",
       "  </thead>\n",
       "  <tbody>\n",
       "    <tr>\n",
       "      <td>0</td>\n",
       "      <td>ironman@avengers.io</td>\n",
       "      <td>Tony</td>\n",
       "      <td>Stark</td>\n",
       "      <td>{'aim': 'Experimentation', 'highest_education'...</td>\n",
       "      <td>{'position': 'Genius Playboy Billionaire Phila...</td>\n",
       "      <td>[{'_id': 5d95e4dd2260c5f14fd96b10, 'name': 'Ar...</td>\n",
       "      <td>True</td>\n",
       "      <td>True</td>\n",
       "      <td>False</td>\n",
       "      <td>True</td>\n",
       "      <td>2019-10-03 12:09:00.907</td>\n",
       "      <td>2019-10-03 12:09:00.907</td>\n",
       "      <td>[]</td>\n",
       "      <td>[]</td>\n",
       "    </tr>\n",
       "    <tr>\n",
       "      <td>1</td>\n",
       "      <td>black_widow@marvel.io</td>\n",
       "      <td>Natasha</td>\n",
       "      <td>Romanoff</td>\n",
       "      <td>{'aim': 'Engineering Work', 'highest_education...</td>\n",
       "      <td>NaN</td>\n",
       "      <td>[{'_id': 5d95e4dd2260c5f14fd96b16, 'name': 'Ar...</td>\n",
       "      <td>True</td>\n",
       "      <td>False</td>\n",
       "      <td>False</td>\n",
       "      <td>True</td>\n",
       "      <td>2019-10-03 12:09:00.907</td>\n",
       "      <td>2019-10-03 12:09:00.907</td>\n",
       "      <td>[]</td>\n",
       "      <td>[]</td>\n",
       "    </tr>\n",
       "  </tbody>\n",
       "</table>\n",
       "</div>"
      ],
      "text/plain": [
       "                   email first_name last_name  \\\n",
       "0    ironman@avengers.io       Tony     Stark   \n",
       "1  black_widow@marvel.io    Natasha  Romanoff   \n",
       "\n",
       "                                             profile  \\\n",
       "0  {'aim': 'Experimentation', 'highest_education'...   \n",
       "1  {'aim': 'Engineering Work', 'highest_education...   \n",
       "\n",
       "                                       admin_profile  \\\n",
       "0  {'position': 'Genius Playboy Billionaire Phila...   \n",
       "1                                                NaN   \n",
       "\n",
       "                                        saved_alloys  active  admin  \\\n",
       "0  [{'_id': 5d95e4dd2260c5f14fd96b10, 'name': 'Ar...    True   True   \n",
       "1  [{'_id': 5d95e4dd2260c5f14fd96b16, 'name': 'Ar...    True  False   \n",
       "\n",
       "   disable_admin  verified                 created            last_updated  \\\n",
       "0          False      True 2019-10-03 12:09:00.907 2019-10-03 12:09:00.907   \n",
       "1          False      True 2019-10-03 12:09:00.907 2019-10-03 12:09:00.907   \n",
       "\n",
       "  ratings login_data  \n",
       "0      []         []  \n",
       "1      []         []  "
      ]
     },
     "execution_count": 63,
     "metadata": {},
     "output_type": "execute_result"
    }
   ],
   "source": [
    "df.head()"
   ]
  },
  {
   "cell_type": "code",
   "execution_count": 65,
   "metadata": {},
   "outputs": [
    {
     "data": {
      "text/plain": [
       "[{'profile': {'aim': 'Experimentation',\n",
       "   'highest_education': 'Masters Degree',\n",
       "   'sci_tech_exp': 'Advanced',\n",
       "   'phase_transform_exp': 'Advanced'}},\n",
       " {'profile': {'aim': 'Engineering Work',\n",
       "   'highest_education': 'High School',\n",
       "   'sci_tech_exp': 'Advanced',\n",
       "   'phase_transform_exp': 'Beginner'}}]"
      ]
     },
     "execution_count": 65,
     "metadata": {},
     "output_type": "execute_result"
    }
   ],
   "source": [
    "pipeline = [\n",
    "    {'$unwind': '$profile'},\n",
    "    {'$project': {'profile': 1, '_id': False}},\n",
    "]\n",
    "\n",
    "res = db[collection].aggregate(pipeline)\n",
    "list(res)"
   ]
  },
  {
   "cell_type": "code",
   "execution_count": 74,
   "metadata": {},
   "outputs": [
    {
     "data": {
      "text/html": [
       "<div>\n",
       "<style scoped>\n",
       "    .dataframe tbody tr th:only-of-type {\n",
       "        vertical-align: middle;\n",
       "    }\n",
       "\n",
       "    .dataframe tbody tr th {\n",
       "        vertical-align: top;\n",
       "    }\n",
       "\n",
       "    .dataframe thead th {\n",
       "        text-align: right;\n",
       "    }\n",
       "</style>\n",
       "<table border=\"1\" class=\"dataframe\">\n",
       "  <thead>\n",
       "    <tr style=\"text-align: right;\">\n",
       "      <th></th>\n",
       "      <th>aim</th>\n",
       "      <th>highest_education</th>\n",
       "      <th>sci_tech_exp</th>\n",
       "      <th>phase_transform_exp</th>\n",
       "    </tr>\n",
       "  </thead>\n",
       "  <tbody>\n",
       "    <tr>\n",
       "      <td>0</td>\n",
       "      <td>Experimentation</td>\n",
       "      <td>Masters Degree</td>\n",
       "      <td>Advanced</td>\n",
       "      <td>Advanced</td>\n",
       "    </tr>\n",
       "    <tr>\n",
       "      <td>1</td>\n",
       "      <td>Engineering Work</td>\n",
       "      <td>High School</td>\n",
       "      <td>Advanced</td>\n",
       "      <td>Beginner</td>\n",
       "    </tr>\n",
       "  </tbody>\n",
       "</table>\n",
       "</div>"
      ],
      "text/plain": [
       "                aim highest_education sci_tech_exp phase_transform_exp\n",
       "0   Experimentation    Masters Degree     Advanced            Advanced\n",
       "1  Engineering Work       High School     Advanced            Beginner"
      ]
     },
     "execution_count": 74,
     "metadata": {},
     "output_type": "execute_result"
    }
   ],
   "source": [
    "pipeline = [\n",
    "    {'$unwind': '$profile'},\n",
    "    {'$project': {\n",
    "        'aim': '$profile.aim', \n",
    "        'highest_education': '$profile.highest_education', \n",
    "        'sci_tech_exp': '$profile.sci_tech_exp', \n",
    "        'phase_transform_exp': '$profile.phase_transform_exp',\n",
    "        '_id': 0\n",
    "        }\n",
    "    },\n",
    "]\n",
    "\n",
    "res = db[collection].aggregate(pipeline)\n",
    "profile_df = pd.DataFrame(list(res))\n",
    "profile_df"
   ]
  },
  {
   "cell_type": "code",
   "execution_count": 73,
   "metadata": {},
   "outputs": [
    {
     "data": {
      "text/html": [
       "<div>\n",
       "<style scoped>\n",
       "    .dataframe tbody tr th:only-of-type {\n",
       "        vertical-align: middle;\n",
       "    }\n",
       "\n",
       "    .dataframe tbody tr th {\n",
       "        vertical-align: top;\n",
       "    }\n",
       "\n",
       "    .dataframe thead th {\n",
       "        text-align: right;\n",
       "    }\n",
       "</style>\n",
       "<table border=\"1\" class=\"dataframe\">\n",
       "  <thead>\n",
       "    <tr style=\"text-align: right;\">\n",
       "      <th></th>\n",
       "      <th>aim</th>\n",
       "      <th>highest_education</th>\n",
       "      <th>sci_tech_exp</th>\n",
       "      <th>phase_transform_exp</th>\n",
       "    </tr>\n",
       "  </thead>\n",
       "  <tbody>\n",
       "    <tr>\n",
       "      <td>0</td>\n",
       "      <td>Experimentation</td>\n",
       "      <td>Masters Degree</td>\n",
       "      <td>Advanced</td>\n",
       "      <td>Advanced</td>\n",
       "    </tr>\n",
       "    <tr>\n",
       "      <td>1</td>\n",
       "      <td>Engineering Work</td>\n",
       "      <td>High School</td>\n",
       "      <td>Advanced</td>\n",
       "      <td>Beginner</td>\n",
       "    </tr>\n",
       "  </tbody>\n",
       "</table>\n",
       "</div>"
      ],
      "text/plain": [
       "                aim highest_education sci_tech_exp phase_transform_exp\n",
       "0   Experimentation    Masters Degree     Advanced            Advanced\n",
       "1  Engineering Work       High School     Advanced            Beginner"
      ]
     },
     "execution_count": 73,
     "metadata": {},
     "output_type": "execute_result"
    }
   ],
   "source": []
  },
  {
   "cell_type": "code",
   "execution_count": 39,
   "metadata": {},
   "outputs": [],
   "source": []
  }
 ],
 "metadata": {
  "kernelspec": {
   "display_name": "Python 3",
   "language": "python",
   "name": "python3"
  },
  "language_info": {
   "codemirror_mode": {
    "name": "ipython",
    "version": 3
   },
   "file_extension": ".py",
   "mimetype": "text/x-python",
   "name": "python",
   "nbconvert_exporter": "python",
   "pygments_lexer": "ipython3",
   "version": "3.7.3"
  },
  "pycharm": {
   "stem_cell": {
    "cell_type": "raw",
    "metadata": {
     "collapsed": false
    },
    "source": []
   }
  }
 },
 "nbformat": 4,
 "nbformat_minor": 4
}
