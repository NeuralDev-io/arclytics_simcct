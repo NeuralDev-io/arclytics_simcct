{
  "cells": [
    {
      "cell_type": "markdown",
      "source": [
        "# SIMCCT User Analytics\n",
        "\n",
        "This Jupyter Notebook is for doing some quick and dirty tests for running data \n",
        "analytics operations on the MongoDB and Redis data persistence. The purpose of \n",
        "which is to then put into a pipeline and then create endpoints for each type \n",
        "of query and analysis that can be done."
      ],
      "metadata": {
        "pycharm": {
          "name": "#%% md\n"
        }
      }
    },
    {
      "cell_type": "code",
      "source": [
        "# Plotly imports\n",
        "\n",
        "import chart_studio\n",
        "import chart_studio.plotly as py\n",
        "import plotly.graph_objects as go\n",
        "import plotly.io as pio\n",
        "from plotly.subplots import make_subplots\n",
        "\n",
        "chart_studio.tools.set_credentials_file(\n",
        "    username='codeninja55', \n",
        "    api_key='mLp691cLJDdKaNgJykR4'\n",
        ")\n",
        "\n",
        "chart_studio.tools.set_config_file(\n",
        "    world_readable=True,\n",
        "    sharing='public'\n",
        ")"
      ],
      "outputs": [],
      "execution_count": 1,
      "metadata": {
        "collapsed": false,
        "pycharm": {
          "name": "#%% \n",
          "is_executing": false
        }
      }
    },
    {
      "cell_type": "code",
      "source": [
        "# imports\n",
        "import datetime\n",
        "from os import environ as env\n",
        "from pymongo import MongoClient\n",
        "import pandas as pd\n",
        "from redis import Redis"
      ],
      "outputs": [],
      "execution_count": 7,
      "metadata": {
        "pycharm": {
          "is_executing": false
        }
      }
    },
    {
      "cell_type": "code",
      "source": [
        "conn = MongoClient(env.get('MONGO_URI'))\n",
        "\n",
        "db_name = 'arc_dev'\n",
        "collection = 'users'\n",
        "db = conn[db_name]"
      ],
      "outputs": [],
      "execution_count": 3,
      "metadata": {
        "pycharm": {
          "is_executing": false
        }
      }
    },
    {
      "cell_type": "code",
      "source": [
        "db"
      ],
      "outputs": [
        {
          "output_type": "execute_result",
          "execution_count": 4,
          "data": {
            "text/plain": [
              "Database(MongoClient(host=['localhost:27017'], document_class=dict, tz_aware=False, connect=True), 'arc_dev')"
            ]
          },
          "metadata": {}
        }
      ],
      "execution_count": 4,
      "metadata": {
        "pycharm": {
          "is_executing": false
        }
      }
    },
    {
      "cell_type": "code",
      "source": [
        "cursor = db[collection].find(\n",
        "    {\n",
        "        'profile': {'$exists': True}\n",
        "    }, \n",
        "    projection={'password': 0, '_id': False}\n",
        ")\n",
        "df = pd.DataFrame(list(cursor))\n",
        "df.head()"
      ],
      "outputs": [
        {
          "output_type": "execute_result",
          "execution_count": 5,
          "data": {
            "text/plain": [
              "                         email first_name last_name  \\\n",
              "0          ironman@avengers.io       Tony     Stark   \n",
              "1        black_widow@marvel.io    Natasha  Romanoff   \n",
              "2  captain_america@avengers.io      Steve    Rogers   \n",
              "3             hulk@avengers.io      Bruce    Banner   \n",
              "4          hawkeye@avengers.io      Clint    Barton   \n",
              "\n",
              "                                             profile  \\\n",
              "0  {'aim': 'Experimentation', 'highest_education'...   \n",
              "1  {'aim': 'Engineering Work', 'highest_education...   \n",
              "2  {'aim': 'Experimentation', 'highest_education'...   \n",
              "3  {'aim': 'Research', 'highest_education': 'High...   \n",
              "4  {'aim': 'Engineering Work', 'highest_education...   \n",
              "\n",
              "                                       admin_profile  \\\n",
              "0  {'position': 'Genius Playboy Billionaire Phila...   \n",
              "1  {'position': 'Russian Superagent', 'mobile_num...   \n",
              "2  {'position': 'Captain', 'mobile_number': '+614...   \n",
              "3  {'position': 'Angry Giant cum cool guy now', '...   \n",
              "4  {'position': 'Marksmen', 'mobile_number': '+61...   \n",
              "\n",
              "                                        saved_alloys  active  admin  \\\n",
              "0  [{'_id': 5d985c0b181db01c07f14633, 'name': 'Ua...    True   True   \n",
              "1  [{'_id': 5d985c0b181db01c07f1464e, 'name': 'Th...    True   True   \n",
              "2  [{'_id': 5d985c0b181db01c07f1466a, 'name': 'Ar...    True   True   \n",
              "3  [{'_id': 5d985c0c181db01c07f14674, 'name': 'al...    True   True   \n",
              "4  [{'_id': 5d985c0c181db01c07f1467d, 'name': 'Ad...    True   True   \n",
              "\n",
              "   disable_admin  verified                 created            last_updated  \\\n",
              "0          False     False 2019-10-05 09:02:03.539 2019-10-05 09:02:44.960   \n",
              "1          False     False 2019-10-05 09:02:03.539 2019-10-05 09:02:03.539   \n",
              "2          False     False 2019-10-05 09:02:03.539 2019-10-05 09:02:03.539   \n",
              "3          False     False 2019-10-05 09:02:03.539 2019-10-05 09:02:03.539   \n",
              "4          False     False 2019-10-05 09:02:03.539 2019-10-05 09:02:03.539   \n",
              "\n",
              "                                             ratings  \\\n",
              "0  [{'rating': 1, 'created_date': 2019-09-25 09:0...   \n",
              "1  [{'rating': 3, 'created_date': 2019-09-25 09:0...   \n",
              "2  [{'rating': 3, 'created_date': 2019-09-25 09:0...   \n",
              "3  [{'rating': 4, 'created_date': 2019-09-25 09:0...   \n",
              "4  [{'rating': 2, 'created_date': 2019-09-25 09:0...   \n",
              "\n",
              "                                          login_data              last_login  \n",
              "0  [{'created_datetime': 2019-09-25 09:02:03.6720... 2019-10-05 09:02:44.925  \n",
              "1  [{'created_datetime': 2019-09-25 09:02:03.6720...                     NaT  \n",
              "2  [{'created_datetime': 2019-09-25 09:02:03.6720...                     NaT  \n",
              "3  [{'created_datetime': 2019-09-25 09:02:03.6720...                     NaT  \n",
              "4  [{'created_datetime': 2019-09-25 09:02:03.6720...                     NaT  "
            ],
            "text/html": [
              "<div>\n",
              "<style scoped>\n",
              "    .dataframe tbody tr th:only-of-type {\n",
              "        vertical-align: middle;\n",
              "    }\n",
              "\n",
              "    .dataframe tbody tr th {\n",
              "        vertical-align: top;\n",
              "    }\n",
              "\n",
              "    .dataframe thead th {\n",
              "        text-align: right;\n",
              "    }\n",
              "</style>\n",
              "<table border=\"1\" class=\"dataframe\">\n",
              "  <thead>\n",
              "    <tr style=\"text-align: right;\">\n",
              "      <th></th>\n",
              "      <th>email</th>\n",
              "      <th>first_name</th>\n",
              "      <th>last_name</th>\n",
              "      <th>profile</th>\n",
              "      <th>admin_profile</th>\n",
              "      <th>saved_alloys</th>\n",
              "      <th>active</th>\n",
              "      <th>admin</th>\n",
              "      <th>disable_admin</th>\n",
              "      <th>verified</th>\n",
              "      <th>created</th>\n",
              "      <th>last_updated</th>\n",
              "      <th>ratings</th>\n",
              "      <th>login_data</th>\n",
              "      <th>last_login</th>\n",
              "    </tr>\n",
              "  </thead>\n",
              "  <tbody>\n",
              "    <tr>\n",
              "      <td>0</td>\n",
              "      <td>ironman@avengers.io</td>\n",
              "      <td>Tony</td>\n",
              "      <td>Stark</td>\n",
              "      <td>{'aim': 'Experimentation', 'highest_education'...</td>\n",
              "      <td>{'position': 'Genius Playboy Billionaire Phila...</td>\n",
              "      <td>[{'_id': 5d985c0b181db01c07f14633, 'name': 'Ua...</td>\n",
              "      <td>True</td>\n",
              "      <td>True</td>\n",
              "      <td>False</td>\n",
              "      <td>False</td>\n",
              "      <td>2019-10-05 09:02:03.539</td>\n",
              "      <td>2019-10-05 09:02:44.960</td>\n",
              "      <td>[{'rating': 1, 'created_date': 2019-09-25 09:0...</td>\n",
              "      <td>[{'created_datetime': 2019-09-25 09:02:03.6720...</td>\n",
              "      <td>2019-10-05 09:02:44.925</td>\n",
              "    </tr>\n",
              "    <tr>\n",
              "      <td>1</td>\n",
              "      <td>black_widow@marvel.io</td>\n",
              "      <td>Natasha</td>\n",
              "      <td>Romanoff</td>\n",
              "      <td>{'aim': 'Engineering Work', 'highest_education...</td>\n",
              "      <td>{'position': 'Russian Superagent', 'mobile_num...</td>\n",
              "      <td>[{'_id': 5d985c0b181db01c07f1464e, 'name': 'Th...</td>\n",
              "      <td>True</td>\n",
              "      <td>True</td>\n",
              "      <td>False</td>\n",
              "      <td>False</td>\n",
              "      <td>2019-10-05 09:02:03.539</td>\n",
              "      <td>2019-10-05 09:02:03.539</td>\n",
              "      <td>[{'rating': 3, 'created_date': 2019-09-25 09:0...</td>\n",
              "      <td>[{'created_datetime': 2019-09-25 09:02:03.6720...</td>\n",
              "      <td>NaT</td>\n",
              "    </tr>\n",
              "    <tr>\n",
              "      <td>2</td>\n",
              "      <td>captain_america@avengers.io</td>\n",
              "      <td>Steve</td>\n",
              "      <td>Rogers</td>\n",
              "      <td>{'aim': 'Experimentation', 'highest_education'...</td>\n",
              "      <td>{'position': 'Captain', 'mobile_number': '+614...</td>\n",
              "      <td>[{'_id': 5d985c0b181db01c07f1466a, 'name': 'Ar...</td>\n",
              "      <td>True</td>\n",
              "      <td>True</td>\n",
              "      <td>False</td>\n",
              "      <td>False</td>\n",
              "      <td>2019-10-05 09:02:03.539</td>\n",
              "      <td>2019-10-05 09:02:03.539</td>\n",
              "      <td>[{'rating': 3, 'created_date': 2019-09-25 09:0...</td>\n",
              "      <td>[{'created_datetime': 2019-09-25 09:02:03.6720...</td>\n",
              "      <td>NaT</td>\n",
              "    </tr>\n",
              "    <tr>\n",
              "      <td>3</td>\n",
              "      <td>hulk@avengers.io</td>\n",
              "      <td>Bruce</td>\n",
              "      <td>Banner</td>\n",
              "      <td>{'aim': 'Research', 'highest_education': 'High...</td>\n",
              "      <td>{'position': 'Angry Giant cum cool guy now', '...</td>\n",
              "      <td>[{'_id': 5d985c0c181db01c07f14674, 'name': 'al...</td>\n",
              "      <td>True</td>\n",
              "      <td>True</td>\n",
              "      <td>False</td>\n",
              "      <td>False</td>\n",
              "      <td>2019-10-05 09:02:03.539</td>\n",
              "      <td>2019-10-05 09:02:03.539</td>\n",
              "      <td>[{'rating': 4, 'created_date': 2019-09-25 09:0...</td>\n",
              "      <td>[{'created_datetime': 2019-09-25 09:02:03.6720...</td>\n",
              "      <td>NaT</td>\n",
              "    </tr>\n",
              "    <tr>\n",
              "      <td>4</td>\n",
              "      <td>hawkeye@avengers.io</td>\n",
              "      <td>Clint</td>\n",
              "      <td>Barton</td>\n",
              "      <td>{'aim': 'Engineering Work', 'highest_education...</td>\n",
              "      <td>{'position': 'Marksmen', 'mobile_number': '+61...</td>\n",
              "      <td>[{'_id': 5d985c0c181db01c07f1467d, 'name': 'Ad...</td>\n",
              "      <td>True</td>\n",
              "      <td>True</td>\n",
              "      <td>False</td>\n",
              "      <td>False</td>\n",
              "      <td>2019-10-05 09:02:03.539</td>\n",
              "      <td>2019-10-05 09:02:03.539</td>\n",
              "      <td>[{'rating': 2, 'created_date': 2019-09-25 09:0...</td>\n",
              "      <td>[{'created_datetime': 2019-09-25 09:02:03.6720...</td>\n",
              "      <td>NaT</td>\n",
              "    </tr>\n",
              "  </tbody>\n",
              "</table>\n",
              "</div>"
            ]
          },
          "metadata": {}
        }
      ],
      "execution_count": 5,
      "metadata": {
        "pycharm": {
          "is_executing": false
        }
      }
    },
    {
      "cell_type": "markdown",
      "source": [
        "## User Profile Data"
      ],
      "metadata": {}
    },
    {
      "cell_type": "code",
      "source": [
        "pipeline = [\n",
        "    {'$unwind': '$profile'},\n",
        "    {'$project': {'profile': 1, '_id': False}},\n",
        "]\n",
        "\n",
        "res = db[collection].aggregate(pipeline)\n",
        "list(res)"
      ],
      "outputs": [],
      "execution_count": null,
      "metadata": {
        "pycharm": {
          "is_executing": false
        }
      }
    },
    {
      "cell_type": "code",
      "source": [
        "pipeline = [\n",
        "    {'$unwind': '$profile'},\n",
        "    {'$project': {\n",
        "        'aim': '$profile.aim', \n",
        "        'highest_education': '$profile.highest_education', \n",
        "        'sci_tech_exp': '$profile.sci_tech_exp', \n",
        "        'phase_transform_exp': '$profile.phase_transform_exp',\n",
        "        '_id': 0\n",
        "        }\n",
        "    },\n",
        "]\n",
        "\n",
        "res = db[collection].aggregate(pipeline)\n",
        "profile_df = pd.DataFrame(list(res))\n",
        "profile_df"
      ],
      "outputs": [],
      "execution_count": null,
      "metadata": {
        "pycharm": {
          "is_executing": false
        }
      }
    },
    {
      "cell_type": "code",
      "source": [
        "list(profile_df['aim'].unique())"
      ],
      "outputs": [],
      "execution_count": null,
      "metadata": {
        "collapsed": false,
        "outputHidden": false,
        "inputHidden": false
      }
    },
    {
      "cell_type": "code",
      "source": [
        "list(profile_df['aim'].value_counts())"
      ],
      "outputs": [],
      "execution_count": null,
      "metadata": {
        "collapsed": false,
        "outputHidden": false,
        "inputHidden": false
      }
    },
    {
      "cell_type": "code",
      "source": [
        "# layout = go.Layout(\n",
        "#     title='User Profile Aim',\n",
        "#     xaxis=dict(title='User Aims'),\n",
        "#     yaxis=dict(title='Count')\n",
        "# )\n",
        "\n",
        "# fig = go.Figure(layout=layout)\n",
        "fig = make_subplots(\n",
        "    rows=2, \n",
        "    cols=2,\n",
        "    subplot_titles=[\n",
        "        'Aim', \n",
        "        'Highest Education', \n",
        "        'Science Tech. Experience',\n",
        "        'Phase Transform Experience'\n",
        "    ]\n",
        ")\n",
        "\n",
        "trace_aim = go.Bar(x=list(profile_df['aim'].unique()), y=list(profile_df['aim'].value_counts()))\n",
        "trace_edu = go.Bar(x=list(profile_df['highest_education'].unique()), y=list(profile_df['highest_education'].value_counts()))\n",
        "trace_sci = go.Bar(x=list(profile_df['sci_tech_exp'].unique()), y=list(profile_df['sci_tech_exp'].value_counts()))\n",
        "trace_pha = go.Bar(x=list(profile_df['phase_transform_exp'].unique()), y=list(profile_df['phase_transform_exp'].value_counts()))\n",
        "\n",
        "fig.add_trace(trace_aim, row=1, col=1)\n",
        "fig.add_trace(trace_edu, row=1, col=2)\n",
        "fig.add_trace(trace_sci, row=2, col=1)\n",
        "fig.add_trace(trace_pha, row=2, col=2)\n",
        "\n",
        "fig.update_layout(\n",
        "    # height=800,\n",
        "    # width=1200,\n",
        "    showlegend=False,\n",
        "    title_text=\"User Profile Answers\"\n",
        ")\n",
        "\n",
        "py.iplot(fig, filename='user_profile_bar')\n",
        "# pio.write_image(fig, file='user_profile_aim.png')"
      ],
      "outputs": [],
      "execution_count": null,
      "metadata": {
        "pycharm": {
          "is_executing": false
        }
      }
    },
    {
      "cell_type": "markdown",
      "source": [
        "## Live Login Data"
      ],
      "metadata": {}
    },
    {
      "cell_type": "code",
      "source": [
        "cursor = db[collection].find(\n",
        "    {\n",
        "        'last_login': {'$exists': True}\n",
        "    }, \n",
        "    projection={'password': 0, '_id': False}\n",
        ")\n",
        "df = pd.DataFrame(list(cursor))\n",
        "df.head()"
      ],
      "outputs": [],
      "execution_count": null,
      "metadata": {
        "collapsed": false,
        "outputHidden": false,
        "inputHidden": false
      }
    },
    {
      "cell_type": "code",
      "source": [
        "pipeline = [\n",
        "  {'$unwind': '$login_data'},\n",
        "  {'$project': {'_id': 0, 'login_data': 1, 'email': 1}},\n",
        "  {'$sort': {'login_data.created_datetime': 1}}\n",
        "]\n",
        "\n",
        "res = db[collection].aggregate(pipeline)\n",
        "# login_df = pd.DataFrame(list(res))\n",
        "list(res)"
      ],
      "outputs": [],
      "execution_count": null,
      "metadata": {
        "collapsed": false,
        "outputHidden": false,
        "inputHidden": false
      }
    },
    {
      "cell_type": "code",
      "source": [
        "pipeline = [\n",
        "  {'$unwind': '$login_data'},\n",
        "  {'$project': {\n",
        "      '_id': 0, \n",
        "      'created_datetime': '$login_data.created_datetime', \n",
        "    }\n",
        "  },\n",
        "]\n",
        "\n",
        "res = db[collection].aggregate(pipeline)\n",
        "list(res)"
      ],
      "outputs": [],
      "execution_count": null,
      "metadata": {
        "collapsed": false,
        "outputHidden": false,
        "inputHidden": false
      }
    },
    {
      "cell_type": "code",
      "source": [
        "# Using graph_objects\n",
        "import plotly.graph_objects as go\n",
        "\n",
        "import pandas as pd\n",
        "df = pd.read_csv('https://raw.githubusercontent.com/plotly/datasets/master/finance-charts-apple.csv')\n",
        "\n",
        "df['Date'].head(n=10)"
      ],
      "outputs": [],
      "execution_count": null,
      "metadata": {
        "collapsed": false,
        "outputHidden": false,
        "inputHidden": false
      }
    },
    {
      "cell_type": "code",
      "source": [
        "df['AAPL.High'].head(n=10)"
      ],
      "outputs": [],
      "execution_count": null,
      "metadata": {
        "collapsed": false,
        "outputHidden": false,
        "inputHidden": false
      }
    },
    {
      "cell_type": "code",
      "source": [
        "fig = go.Figure([go.Scatter(x=df['Date'], y=df['AAPL.High'])])\n",
        "fig.show()"
      ],
      "outputs": [],
      "execution_count": null,
      "metadata": {
        "collapsed": false,
        "outputHidden": false,
        "inputHidden": false
      }
    },
    {
      "cell_type": "code",
      "source": [
        "import plotly.graph_objects as go\n",
        "import datetime\n",
        "\n",
        "x = [datetime.datetime(year=2013, month=10, day=4),\n",
        "     datetime.datetime(year=2013, month=11, day=5),\n",
        "     datetime.datetime(year=2013, month=12, day=6)]\n",
        "\n",
        "fig = go.Figure(data=[go.Scatter(x=x, y=[1, 3, 6])])\n",
        "# Use datetime objects to set xaxis range\n",
        "fig.update_layout(xaxis_range=[datetime.datetime(2013, 10, 17),\n",
        "                               datetime.datetime(2013, 11, 20)])\n",
        "fig.show()"
      ],
      "outputs": [],
      "execution_count": null,
      "metadata": {
        "collapsed": false,
        "outputHidden": false,
        "inputHidden": false
      }
    },
    {
      "cell_type": "code",
      "source": [
        "pipeline = [\n",
        "  {'$unwind': '$login_data'},\n",
        "  {'$project': {\n",
        "      '_id': 0, \n",
        "      'timestamp': '$login_data.created_datetime', \n",
        "      'user': '$email',\n",
        "    }\n",
        "  },\n",
        "]\n",
        "\n",
        "res = db[collection].aggregate(pipeline)\n",
        "\n",
        "\n",
        "# dt_idx = pd.to_datetime()\n",
        "\n",
        "df = pd.DataFrame(list(res))\n",
        "\n",
        "df['timestamp'] = pd.to_datetime(df['timestamp'])\n",
        "# df.set_index('timestamp', inplace=True)\n",
        "\n",
        "df = df.groupby(pd.Grouper(key='timestamp', freq='1min')).count().dropna()\n",
        "\n",
        "# df = df.groupby(pd.Grouper(key='timestamp', freq='60s'))\n",
        "# res = (pd.DataFrame(df.index[1:]) - pd.DataFrame(df.index[:-1]))\n",
        "# df = df.to_frame().reset_index()\n",
        "# df.resample('T').count()\n",
        "\n",
        "# res['timestamp'].value_counts()\n",
        "df"
      ],
      "outputs": [],
      "execution_count": null,
      "metadata": {
        "collapsed": false,
        "outputHidden": false,
        "inputHidden": false
      }
    },
    {
      "cell_type": "code",
      "source": [
        "fig = go.Figure()\n",
        "\n",
        "trace = go.Scatter(x=df.index, y=df['user'])\n",
        "\n",
        "fig.add_trace(trace)\n",
        "\n",
        "fig.update_layout(\n",
        "  showlegend=False,\n",
        "  title_text=\"Logged in Users\",\n",
        "  xaxis_range=[\n",
        "    datetime.datetime(2019, 10, 4),\n",
        "    datetime.datetime(2019, 10, 5)\n",
        "  ],\n",
        "  xaxis_rangeslider_visible=True\n",
        ")\n",
        "\n",
        "py.iplot(fig, filename='user_login_timestamps')"
      ],
      "outputs": [],
      "execution_count": null,
      "metadata": {
        "collapsed": false,
        "outputHidden": false,
        "inputHidden": false
      }
    },
    {
      "cell_type": "markdown",
      "source": [
        "## Logged In User Map"
      ],
      "metadata": {}
    },
    {
      "cell_type": "code",
      "source": [
        "redis_uri = env.get('REDIS_URI')\n",
        "client = Redis(redis_uri)\n",
        "client"
      ],
      "outputs": [
        {
          "output_type": "execute_result",
          "execution_count": 12,
          "data": {
            "text/plain": [
              "Redis<ConnectionPool<Connection<host=None,port=6379,db=0>>>"
            ]
          },
          "metadata": {}
        }
      ],
      "execution_count": 12,
      "metadata": {
        "collapsed": false,
        "outputHidden": false,
        "inputHidden": false
      }
    },
    {
      "cell_type": "code",
      "source": [
        "keys = client.keys(pattern=u'session*')\n",
        "keys"
      ],
      "outputs": [
        {
          "output_type": "execute_result",
          "execution_count": 13,
          "data": {
            "text/plain": [
              "[b'session:5d985c0b181db01c07f1464d.13a831ef8df04ab48b6dc2b0fbc58337']"
            ]
          },
          "metadata": {}
        }
      ],
      "execution_count": 13,
      "metadata": {
        "collapsed": false,
        "outputHidden": false,
        "inputHidden": false
      }
    },
    {
      "cell_type": "code",
      "source": [
        "import json \n",
        "\n",
        "for byte_key in keys:\n",
        "  key = byte_key.decode('utf-8')\n",
        "  print()\n",
        "  sess_store = json.loads(client.get(key))\n",
        "  print(sess_store)"
      ],
      "outputs": [
        {
          "output_type": "stream",
          "name": "stdout",
          "text": [
            "\n",
            "None\n"
          ]
        }
      ],
      "execution_count": 23,
      "metadata": {
        "collapsed": false,
        "outputHidden": false,
        "inputHidden": false
      }
    },
    {
      "cell_type": "code",
      "source": [],
      "outputs": [],
      "execution_count": null,
      "metadata": {
        "collapsed": false,
        "outputHidden": false,
        "inputHidden": false
      }
    }
  ],
  "metadata": {
    "kernelspec": {
      "name": "arc",
      "language": "python",
      "display_name": "Python (ARC)"
    },
    "language_info": {
      "name": "python",
      "version": "3.7.3",
      "mimetype": "text/x-python",
      "codemirror_mode": {
        "name": "ipython",
        "version": 3
      },
      "pygments_lexer": "ipython3",
      "nbconvert_exporter": "python",
      "file_extension": ".py"
    },
    "pycharm": {
      "stem_cell": {
        "cell_type": "raw",
        "source": [],
        "metadata": {
          "collapsed": false
        }
      }
    },
    "kernel_info": {
      "name": "arc"
    },
    "nteract": {
      "version": "0.14.2"
    }
  },
  "nbformat": 4,
  "nbformat_minor": 4
}