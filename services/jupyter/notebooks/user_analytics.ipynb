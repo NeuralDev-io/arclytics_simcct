{
  "cells": [
    {
      "cell_type": "markdown",
      "source": [
        "# SIMCCT User Analytics\n",
        "\n",
        "This Jupyter Notebook is for doing some quick and dirty tests for running data \n",
        "analytics operations on the MongoDB and Redis data persistence. The purpose of \n",
        "which is to then put into a pipeline and then create endpoints for each type \n",
        "of query and analysis that can be done."
      ],
      "metadata": {
        "pycharm": {
          "name": "#%% md\n"
        }
      }
    },
    {
      "cell_type": "code",
      "source": [
        "# Plotly imports\n",
        "\n",
        "import chart_studio\n",
        "import chart_studio.plotly as py\n",
        "import plotly.graph_objects as go\n",
        "import plotly.io as pio\n",
        "from plotly.subplots import make_subplots\n",
        "\n",
        "chart_studio.tools.set_credentials_file(\n",
        "    username='codeninja55', \n",
        "    api_key='mLp691cLJDdKaNgJykR4'\n",
        ")\n",
        "\n",
        "chart_studio.tools.set_config_file(\n",
        "    world_readable=True,\n",
        "    sharing='public'\n",
        ")"
      ],
      "outputs": [],
      "execution_count": 7,
      "metadata": {
        "collapsed": false,
        "pycharm": {
          "name": "#%% \n",
          "is_executing": false
        }
      }
    },
    {
      "cell_type": "code",
      "source": [
        "# imports\n",
        "from os import environ as env\n",
        "from pymongo import MongoClient\n",
        "import pandas as pd"
      ],
      "outputs": [],
      "execution_count": 8,
      "metadata": {
        "pycharm": {
          "is_executing": false
        }
      }
    },
    {
      "cell_type": "code",
      "source": [
        "conn = MongoClient(env.get('MONGO_URI'))\n",
        "\n",
        "db_name = 'arc_dev'\n",
        "collection = 'users'\n",
        "db = conn[db_name]"
      ],
      "outputs": [],
      "execution_count": 9,
      "metadata": {
        "pycharm": {
          "is_executing": false
        }
      }
    },
    {
      "cell_type": "code",
      "source": [
        "db"
      ],
      "outputs": [
        {
          "output_type": "execute_result",
          "execution_count": 10,
          "data": {
            "text/plain": [
              "Database(MongoClient(host=['localhost:27017'], document_class=dict, tz_aware=False, connect=True), 'arc_dev')"
            ]
          },
          "metadata": {}
        }
      ],
      "execution_count": 10,
      "metadata": {
        "pycharm": {
          "is_executing": false
        }
      }
    },
    {
      "cell_type": "code",
      "source": [
        "cursor = db[collection].find(\n",
        "    {\n",
        "        'profile': {'$exists': True}\n",
        "    }, \n",
        "    projection={'password': 0, '_id': False}\n",
        ")\n",
        "df = pd.DataFrame(list(cursor))"
      ],
      "outputs": [],
      "execution_count": 17,
      "metadata": {
        "pycharm": {
          "is_executing": false
        }
      }
    },
    {
      "cell_type": "code",
      "source": [
        "df.head()"
      ],
      "outputs": [
        {
          "output_type": "execute_result",
          "execution_count": 18,
          "data": {
            "text/plain": [
              "                   email first_name last_name  \\\n",
              "0    ironman@avengers.io       Tony     Stark   \n",
              "1  black_widow@marvel.io    Natasha  Romanoff   \n",
              "\n",
              "                                             profile  \\\n",
              "0  {'aim': 'Experimentation', 'highest_education'...   \n",
              "1  {'aim': 'Engineering Work', 'highest_education...   \n",
              "\n",
              "                                       admin_profile  \\\n",
              "0  {'position': 'Genius Playboy Billionaire Phila...   \n",
              "1                                                NaN   \n",
              "\n",
              "                                        saved_alloys  active  admin  \\\n",
              "0  [{'_id': 5d96c2fa1b447aef56bada46, 'name': 'Ar...    True   True   \n",
              "1  [{'_id': 5d96c2fb1b447aef56bada4c, 'name': 'Ar...    True  False   \n",
              "\n",
              "   disable_admin  verified                 created            last_updated  \\\n",
              "0          False      True 2019-10-04 03:56:42.610 2019-10-04 03:56:42.610   \n",
              "1          False      True 2019-10-04 03:56:42.610 2019-10-04 03:56:42.610   \n",
              "\n",
              "  ratings login_data  \n",
              "0      []         []  \n",
              "1      []         []  "
            ],
            "text/html": [
              "<div>\n",
              "<style scoped>\n",
              "    .dataframe tbody tr th:only-of-type {\n",
              "        vertical-align: middle;\n",
              "    }\n",
              "\n",
              "    .dataframe tbody tr th {\n",
              "        vertical-align: top;\n",
              "    }\n",
              "\n",
              "    .dataframe thead th {\n",
              "        text-align: right;\n",
              "    }\n",
              "</style>\n",
              "<table border=\"1\" class=\"dataframe\">\n",
              "  <thead>\n",
              "    <tr style=\"text-align: right;\">\n",
              "      <th></th>\n",
              "      <th>email</th>\n",
              "      <th>first_name</th>\n",
              "      <th>last_name</th>\n",
              "      <th>profile</th>\n",
              "      <th>admin_profile</th>\n",
              "      <th>saved_alloys</th>\n",
              "      <th>active</th>\n",
              "      <th>admin</th>\n",
              "      <th>disable_admin</th>\n",
              "      <th>verified</th>\n",
              "      <th>created</th>\n",
              "      <th>last_updated</th>\n",
              "      <th>ratings</th>\n",
              "      <th>login_data</th>\n",
              "    </tr>\n",
              "  </thead>\n",
              "  <tbody>\n",
              "    <tr>\n",
              "      <td>0</td>\n",
              "      <td>ironman@avengers.io</td>\n",
              "      <td>Tony</td>\n",
              "      <td>Stark</td>\n",
              "      <td>{'aim': 'Experimentation', 'highest_education'...</td>\n",
              "      <td>{'position': 'Genius Playboy Billionaire Phila...</td>\n",
              "      <td>[{'_id': 5d96c2fa1b447aef56bada46, 'name': 'Ar...</td>\n",
              "      <td>True</td>\n",
              "      <td>True</td>\n",
              "      <td>False</td>\n",
              "      <td>True</td>\n",
              "      <td>2019-10-04 03:56:42.610</td>\n",
              "      <td>2019-10-04 03:56:42.610</td>\n",
              "      <td>[]</td>\n",
              "      <td>[]</td>\n",
              "    </tr>\n",
              "    <tr>\n",
              "      <td>1</td>\n",
              "      <td>black_widow@marvel.io</td>\n",
              "      <td>Natasha</td>\n",
              "      <td>Romanoff</td>\n",
              "      <td>{'aim': 'Engineering Work', 'highest_education...</td>\n",
              "      <td>NaN</td>\n",
              "      <td>[{'_id': 5d96c2fb1b447aef56bada4c, 'name': 'Ar...</td>\n",
              "      <td>True</td>\n",
              "      <td>False</td>\n",
              "      <td>False</td>\n",
              "      <td>True</td>\n",
              "      <td>2019-10-04 03:56:42.610</td>\n",
              "      <td>2019-10-04 03:56:42.610</td>\n",
              "      <td>[]</td>\n",
              "      <td>[]</td>\n",
              "    </tr>\n",
              "  </tbody>\n",
              "</table>\n",
              "</div>"
            ]
          },
          "metadata": {}
        }
      ],
      "execution_count": 18,
      "metadata": {
        "pycharm": {
          "is_executing": false
        }
      }
    },
    {
      "cell_type": "code",
      "source": [
        "pipeline = [\n",
        "    {'$unwind': '$profile'},\n",
        "    {'$project': {'profile': 1, '_id': False}},\n",
        "]\n",
        "\n",
        "res = db[collection].aggregate(pipeline)\n",
        "list(res)"
      ],
      "outputs": [
        {
          "output_type": "execute_result",
          "execution_count": 19,
          "data": {
            "text/plain": [
              "[{'profile': {'aim': 'Experimentation',\n",
              "   'highest_education': 'Masters Degree',\n",
              "   'sci_tech_exp': 'Advanced',\n",
              "   'phase_transform_exp': 'Advanced'}},\n",
              " {'profile': {'aim': 'Engineering Work',\n",
              "   'highest_education': 'High School',\n",
              "   'sci_tech_exp': 'Advanced',\n",
              "   'phase_transform_exp': 'Beginner'}}]"
            ]
          },
          "metadata": {}
        }
      ],
      "execution_count": 19,
      "metadata": {
        "pycharm": {
          "is_executing": false
        }
      }
    },
    {
      "cell_type": "code",
      "source": [
        "pipeline = [\n",
        "    {'$unwind': '$profile'},\n",
        "    {'$project': {\n",
        "        'aim': '$profile.aim', \n",
        "        'highest_education': '$profile.highest_education', \n",
        "        'sci_tech_exp': '$profile.sci_tech_exp', \n",
        "        'phase_transform_exp': '$profile.phase_transform_exp',\n",
        "        '_id': 0\n",
        "        }\n",
        "    },\n",
        "]\n",
        "\n",
        "res = db[collection].aggregate(pipeline)\n",
        "profile_df = pd.DataFrame(list(res))\n",
        "profile_df"
      ],
      "outputs": [
        {
          "output_type": "execute_result",
          "execution_count": 20,
          "data": {
            "text/plain": [
              "                aim highest_education sci_tech_exp phase_transform_exp\n",
              "0   Experimentation    Masters Degree     Advanced            Advanced\n",
              "1  Engineering Work       High School     Advanced            Beginner"
            ],
            "text/html": [
              "<div>\n",
              "<style scoped>\n",
              "    .dataframe tbody tr th:only-of-type {\n",
              "        vertical-align: middle;\n",
              "    }\n",
              "\n",
              "    .dataframe tbody tr th {\n",
              "        vertical-align: top;\n",
              "    }\n",
              "\n",
              "    .dataframe thead th {\n",
              "        text-align: right;\n",
              "    }\n",
              "</style>\n",
              "<table border=\"1\" class=\"dataframe\">\n",
              "  <thead>\n",
              "    <tr style=\"text-align: right;\">\n",
              "      <th></th>\n",
              "      <th>aim</th>\n",
              "      <th>highest_education</th>\n",
              "      <th>sci_tech_exp</th>\n",
              "      <th>phase_transform_exp</th>\n",
              "    </tr>\n",
              "  </thead>\n",
              "  <tbody>\n",
              "    <tr>\n",
              "      <td>0</td>\n",
              "      <td>Experimentation</td>\n",
              "      <td>Masters Degree</td>\n",
              "      <td>Advanced</td>\n",
              "      <td>Advanced</td>\n",
              "    </tr>\n",
              "    <tr>\n",
              "      <td>1</td>\n",
              "      <td>Engineering Work</td>\n",
              "      <td>High School</td>\n",
              "      <td>Advanced</td>\n",
              "      <td>Beginner</td>\n",
              "    </tr>\n",
              "  </tbody>\n",
              "</table>\n",
              "</div>"
            ]
          },
          "metadata": {}
        }
      ],
      "execution_count": 20,
      "metadata": {
        "pycharm": {
          "is_executing": false
        }
      }
    },
    {
      "cell_type": "code",
      "source": [
        "profile_df['aim'].unique()"
      ],
      "outputs": [
        {
          "output_type": "execute_result",
          "execution_count": 39,
          "data": {
            "text/plain": [
              "array(['Experimentation', 'Engineering Work'], dtype=object)"
            ]
          },
          "metadata": {}
        }
      ],
      "execution_count": 39,
      "metadata": {
        "collapsed": false,
        "outputHidden": false,
        "inputHidden": false
      }
    },
    {
      "cell_type": "code",
      "source": [
        "list(profile_df['aim'].value_counts())"
      ],
      "outputs": [
        {
          "output_type": "execute_result",
          "execution_count": 46,
          "data": {
            "text/plain": [
              "[1, 1]"
            ]
          },
          "metadata": {}
        }
      ],
      "execution_count": 46,
      "metadata": {
        "collapsed": false,
        "outputHidden": false,
        "inputHidden": false
      }
    },
    {
      "cell_type": "code",
      "source": [
        "# layout = go.Layout(\n",
        "#     title='User Profile Aim',\n",
        "#     xaxis=dict(title='User Aims'),\n",
        "#     yaxis=dict(title='Count')\n",
        "# )\n",
        "\n",
        "# fig = go.Figure(layout=layout)\n",
        "fig = make_subplots(\n",
        "    rows=2, \n",
        "    cols=2,\n",
        "    subplot_titles=[\n",
        "        'Aim', \n",
        "        'Highest Education', \n",
        "        'Science Tech. Experience',\n",
        "        'Phase Transform Experience'\n",
        "    ]\n",
        ")\n",
        "\n",
        "trace_aim = go.Bar(x=list(profile_df['aim'].unique()), y=list(profile_df['aim'].value_counts()))\n",
        "trace_edu = go.Bar(x=list(profile_df['highest_education'].unique()), y=list(profile_df['highest_education'].value_counts()))\n",
        "trace_sci = go.Bar(x=list(profile_df['sci_tech_exp'].unique()), y=list(profile_df['sci_tech_exp'].value_counts()))\n",
        "trace_pha = go.Bar(x=list(profile_df['phase_transform_exp'].unique()), y=list(profile_df['phase_transform_exp'].value_counts()))\n",
        "\n",
        "fig.add_trace(trace_aim, row=1, col=1)\n",
        "fig.add_trace(trace_edu, row=1, col=2)\n",
        "fig.add_trace(trace_sci, row=2, col=1)\n",
        "fig.add_trace(trace_pha, row=2, col=2)\n",
        "\n",
        "fig.update_layout(\n",
        "    # height=800,\n",
        "    # width=1200,\n",
        "    showlegend=False,\n",
        "    title_text=\"User Profile Answers\"\n",
        ")\n",
        "\n",
        "py.iplot(fig, filename='user_profile_aim')\n",
        "# pio.write_image(fig, file='user_profile_aim.png')"
      ],
      "outputs": [
        {
          "output_type": "execute_result",
          "execution_count": 47,
          "data": {
            "text/plain": [
              "<IPython.lib.display.IFrame at 0x7f3bc49e8828>"
            ],
            "text/html": [
              "\n",
              "        <iframe\n",
              "            width=\"100%\"\n",
              "            height=\"525px\"\n",
              "            src=\"https://plot.ly/~codeninja55/26.embed\"\n",
              "            frameborder=\"0\"\n",
              "            allowfullscreen\n",
              "        ></iframe>\n",
              "        "
            ]
          },
          "metadata": {}
        }
      ],
      "execution_count": 47,
      "metadata": {
        "pycharm": {
          "is_executing": false
        }
      }
    },
    {
      "cell_type": "code",
      "source": [],
      "outputs": [],
      "execution_count": 39,
      "metadata": {}
    }
  ],
  "metadata": {
    "kernelspec": {
      "name": "arc",
      "language": "python",
      "display_name": "Python (ARC)"
    },
    "language_info": {
      "name": "python",
      "version": "3.7.3",
      "mimetype": "text/x-python",
      "codemirror_mode": {
        "name": "ipython",
        "version": 3
      },
      "pygments_lexer": "ipython3",
      "nbconvert_exporter": "python",
      "file_extension": ".py"
    },
    "pycharm": {
      "stem_cell": {
        "cell_type": "raw",
        "source": [],
        "metadata": {
          "collapsed": false
        }
      }
    },
    "kernel_info": {
      "name": "arc"
    },
    "nteract": {
      "version": "0.14.2"
    }
  },
  "nbformat": 4,
  "nbformat_minor": 4
}