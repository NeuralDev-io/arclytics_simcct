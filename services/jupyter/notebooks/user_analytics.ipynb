{
 "cells": [
  {
   "cell_type": "markdown",
   "metadata": {
    "pycharm": {
     "name": "#%% md\n"
    }
   },
   "source": [
    "# SIMCCT User Analytics\n",
    "\n",
    "This Jupyter Notebook is for doing some quick and dirty tests for running data \n",
    "analytics operations on the MongoDB and Redis data persistence. The purpose of \n",
    "which is to then put into a pipeline and then create endpoints for each type \n",
    "of query and analysis that can be done."
   ]
  },
  {
   "cell_type": "code",
   "execution_count": 35,
   "outputs": [
    {
     "traceback": [
      "\u001b[0;31m---------------------------------------------------------------------------\u001b[0m",
      "\u001b[0;31mPlotlyError\u001b[0m                               Traceback (most recent call last)",
      "\u001b[0;32m<ipython-input-35-b35a50f23070>\u001b[0m in \u001b[0;36m<module>\u001b[0;34m\u001b[0m\n\u001b[1;32m     12\u001b[0m chart_studio.tools.set_config_file(\n\u001b[1;32m     13\u001b[0m     \u001b[0mworld_readable\u001b[0m\u001b[0;34m=\u001b[0m\u001b[0;32mTrue\u001b[0m\u001b[0;34m,\u001b[0m\u001b[0;34m\u001b[0m\u001b[0;34m\u001b[0m\u001b[0m\n\u001b[0;32m---> 14\u001b[0;31m     \u001b[0msharing\u001b[0m\u001b[0;34m=\u001b[0m\u001b[0;34m'private'\u001b[0m\u001b[0;34m\u001b[0m\u001b[0;34m\u001b[0m\u001b[0m\n\u001b[0m\u001b[1;32m     15\u001b[0m )\n\u001b[1;32m     16\u001b[0m \u001b[0;34m\u001b[0m\u001b[0m\n",
      "\u001b[0;32m~/anaconda3/envs/arc/lib/python3.7/site-packages/chart_studio/tools.py\u001b[0m in \u001b[0;36mset_config_file\u001b[0;34m(plotly_domain, plotly_streaming_domain, plotly_api_domain, plotly_ssl_verification, plotly_proxy_authorization, world_readable, sharing, auto_open)\u001b[0m\n\u001b[1;32m    170\u001b[0m     \u001b[0mensure_local_plotly_files\u001b[0m\u001b[0;34m(\u001b[0m\u001b[0;34m)\u001b[0m  \u001b[0;31m# make sure what's there is OK\u001b[0m\u001b[0;34m\u001b[0m\u001b[0;34m\u001b[0m\u001b[0m\n\u001b[1;32m    171\u001b[0m     utils.validate_world_readable_and_sharing_settings(\n\u001b[0;32m--> 172\u001b[0;31m         \u001b[0;34m{\u001b[0m\u001b[0;34m\"sharing\"\u001b[0m\u001b[0;34m:\u001b[0m \u001b[0msharing\u001b[0m\u001b[0;34m,\u001b[0m \u001b[0;34m\"world_readable\"\u001b[0m\u001b[0;34m:\u001b[0m \u001b[0mworld_readable\u001b[0m\u001b[0;34m}\u001b[0m\u001b[0;34m\u001b[0m\u001b[0;34m\u001b[0m\u001b[0m\n\u001b[0m\u001b[1;32m    173\u001b[0m     )\n\u001b[1;32m    174\u001b[0m \u001b[0;34m\u001b[0m\u001b[0m\n",
      "\u001b[0;32m~/anaconda3/envs/arc/lib/python3.7/site-packages/chart_studio/utils.py\u001b[0m in \u001b[0;36mvalidate_world_readable_and_sharing_settings\u001b[0;34m(option_set)\u001b[0m\n\u001b[1;32m    131\u001b[0m     ):\n\u001b[1;32m    132\u001b[0m         raise PlotlyError(\n\u001b[0;32m--> 133\u001b[0;31m             \u001b[0;34m\"Looks like you are setting your plot privacy to both \"\u001b[0m\u001b[0;34m\u001b[0m\u001b[0;34m\u001b[0m\u001b[0m\n\u001b[0m\u001b[1;32m    134\u001b[0m             \u001b[0;34m\"public and private.\\n If you set world_readable as True, \"\u001b[0m\u001b[0;34m\u001b[0m\u001b[0;34m\u001b[0m\u001b[0m\n\u001b[1;32m    135\u001b[0m             \u001b[0;34m\"sharing can only be set to 'public'\"\u001b[0m\u001b[0;34m\u001b[0m\u001b[0;34m\u001b[0m\u001b[0m\n",
      "\u001b[0;31mPlotlyError\u001b[0m: Looks like you are setting your plot privacy to both public and private.\n If you set world_readable as True, sharing can only be set to 'public'"
     ],
     "ename": "PlotlyError",
     "evalue": "Looks like you are setting your plot privacy to both public and private.\n If you set world_readable as True, sharing can only be set to 'public'",
     "output_type": "error"
    }
   ],
   "source": [
    "import chart_studio\n",
    "import chart_studio.plotly as py\n",
    "import plotly.graph_objects as go\n",
    "import plotly.io as pio\n",
    "from plotly.subplots import make_subplots\n",
    "\n",
    "chart_studio.tools.set_credentials_file(\n",
    "    username='codeninja55', \n",
    "    api_key='mLp691cLJDdKaNgJykR4'\n",
    ")\n",
    "\n",
    "chart_studio.tools.set_config_file(\n",
    "    world_readable=True,\n",
    "    sharing='private'\n",
    ")"
   ],
   "metadata": {
    "collapsed": false,
    "pycharm": {
     "name": "#%% plotly imports\n",
     "is_executing": false
    }
   }
  },
  {
   "cell_type": "code",
   "execution_count": 4,
   "metadata": {
    "pycharm": {
     "is_executing": false
    }
   },
   "outputs": [],
   "source": [
    "# imports\n",
    "from os import environ as env\n",
    "from bson.son import SON\n",
    "from pymongo import MongoClient\n",
    "import pandas as pd"
   ]
  },
  {
   "cell_type": "code",
   "execution_count": 5,
   "metadata": {
    "pycharm": {
     "is_executing": false
    }
   },
   "outputs": [],
   "source": [
    "conn = MongoClient(env.get('MONGO_URI'))\n",
    "\n",
    "db_name = 'arc_dev'\n",
    "collection = 'users'\n",
    "db = conn[db_name]"
   ]
  },
  {
   "cell_type": "code",
   "execution_count": 6,
   "metadata": {
    "pycharm": {
     "is_executing": false
    }
   },
   "outputs": [
    {
     "data": {
      "text/plain": "Database(MongoClient(host=['localhost:27017'], document_class=dict, tz_aware=False, connect=True), 'arc_dev')"
     },
     "metadata": {},
     "output_type": "execute_result",
     "execution_count": 6
    }
   ],
   "source": [
    "db"
   ]
  },
  {
   "cell_type": "code",
   "execution_count": 7,
   "metadata": {
    "pycharm": {
     "is_executing": false
    }
   },
   "outputs": [],
   "source": [
    "cursor = db[collection].find(\n",
    "    {\n",
    "        'profile': {'$exists': True}\n",
    "    }, \n",
    "    projection={'password': 0, '_id': False}\n",
    ")\n",
    "df = pd.DataFrame(list(cursor))"
   ]
  },
  {
   "cell_type": "code",
   "execution_count": 8,
   "metadata": {
    "pycharm": {
     "is_executing": false
    }
   },
   "outputs": [
    {
     "data": {
      "text/plain": "                   email first_name last_name  \\\n0    ironman@avengers.io       Tony     Stark   \n1  black_widow@marvel.io    Natasha  Romanoff   \n\n                                             profile  \\\n0  {'aim': 'Experimentation', 'highest_education'...   \n1  {'aim': 'Engineering Work', 'highest_education...   \n\n                                       admin_profile  \\\n0  {'position': 'Genius Playboy Billionaire Phila...   \n1                                                NaN   \n\n                                        saved_alloys  active  admin  \\\n0  [{'_id': 5d95c9a56ee96fca0ebb061b, 'name': 'Ar...    True   True   \n1  [{'_id': 5d95c9a56ee96fca0ebb0621, 'name': 'Ar...    True  False   \n\n   disable_admin  verified                 created            last_updated  \\\n0          False      True 2019-10-03 10:12:52.656 2019-10-03 10:12:52.656   \n1          False      True 2019-10-03 10:12:52.656 2019-10-03 10:12:52.656   \n\n  ratings login_data  \n0      []         []  \n1      []         []  ",
      "text/html": "<div>\n<style scoped>\n    .dataframe tbody tr th:only-of-type {\n        vertical-align: middle;\n    }\n\n    .dataframe tbody tr th {\n        vertical-align: top;\n    }\n\n    .dataframe thead th {\n        text-align: right;\n    }\n</style>\n<table border=\"1\" class=\"dataframe\">\n  <thead>\n    <tr style=\"text-align: right;\">\n      <th></th>\n      <th>email</th>\n      <th>first_name</th>\n      <th>last_name</th>\n      <th>profile</th>\n      <th>admin_profile</th>\n      <th>saved_alloys</th>\n      <th>active</th>\n      <th>admin</th>\n      <th>disable_admin</th>\n      <th>verified</th>\n      <th>created</th>\n      <th>last_updated</th>\n      <th>ratings</th>\n      <th>login_data</th>\n    </tr>\n  </thead>\n  <tbody>\n    <tr>\n      <td>0</td>\n      <td>ironman@avengers.io</td>\n      <td>Tony</td>\n      <td>Stark</td>\n      <td>{'aim': 'Experimentation', 'highest_education'...</td>\n      <td>{'position': 'Genius Playboy Billionaire Phila...</td>\n      <td>[{'_id': 5d95c9a56ee96fca0ebb061b, 'name': 'Ar...</td>\n      <td>True</td>\n      <td>True</td>\n      <td>False</td>\n      <td>True</td>\n      <td>2019-10-03 10:12:52.656</td>\n      <td>2019-10-03 10:12:52.656</td>\n      <td>[]</td>\n      <td>[]</td>\n    </tr>\n    <tr>\n      <td>1</td>\n      <td>black_widow@marvel.io</td>\n      <td>Natasha</td>\n      <td>Romanoff</td>\n      <td>{'aim': 'Engineering Work', 'highest_education...</td>\n      <td>NaN</td>\n      <td>[{'_id': 5d95c9a56ee96fca0ebb0621, 'name': 'Ar...</td>\n      <td>True</td>\n      <td>False</td>\n      <td>False</td>\n      <td>True</td>\n      <td>2019-10-03 10:12:52.656</td>\n      <td>2019-10-03 10:12:52.656</td>\n      <td>[]</td>\n      <td>[]</td>\n    </tr>\n  </tbody>\n</table>\n</div>"
     },
     "metadata": {},
     "output_type": "execute_result",
     "execution_count": 8
    }
   ],
   "source": [
    "df.head()"
   ]
  },
  {
   "cell_type": "code",
   "execution_count": 9,
   "metadata": {
    "pycharm": {
     "is_executing": false
    }
   },
   "outputs": [
    {
     "data": {
      "text/plain": "[{'profile': {'aim': 'Experimentation',\n   'highest_education': 'Masters Degree',\n   'sci_tech_exp': 'Advanced',\n   'phase_transform_exp': 'Advanced'}},\n {'profile': {'aim': 'Engineering Work',\n   'highest_education': 'High School',\n   'sci_tech_exp': 'Advanced',\n   'phase_transform_exp': 'Beginner'}}]"
     },
     "metadata": {},
     "output_type": "execute_result",
     "execution_count": 9
    }
   ],
   "source": [
    "pipeline = [\n",
    "    {'$unwind': '$profile'},\n",
    "    {'$project': {'profile': 1, '_id': False}},\n",
    "]\n",
    "\n",
    "res = db[collection].aggregate(pipeline)\n",
    "list(res)"
   ]
  },
  {
   "cell_type": "code",
   "execution_count": 10,
   "metadata": {
    "pycharm": {
     "is_executing": false
    }
   },
   "outputs": [
    {
     "data": {
      "text/plain": "                aim highest_education sci_tech_exp phase_transform_exp\n0   Experimentation    Masters Degree     Advanced            Advanced\n1  Engineering Work       High School     Advanced            Beginner",
      "text/html": "<div>\n<style scoped>\n    .dataframe tbody tr th:only-of-type {\n        vertical-align: middle;\n    }\n\n    .dataframe tbody tr th {\n        vertical-align: top;\n    }\n\n    .dataframe thead th {\n        text-align: right;\n    }\n</style>\n<table border=\"1\" class=\"dataframe\">\n  <thead>\n    <tr style=\"text-align: right;\">\n      <th></th>\n      <th>aim</th>\n      <th>highest_education</th>\n      <th>sci_tech_exp</th>\n      <th>phase_transform_exp</th>\n    </tr>\n  </thead>\n  <tbody>\n    <tr>\n      <td>0</td>\n      <td>Experimentation</td>\n      <td>Masters Degree</td>\n      <td>Advanced</td>\n      <td>Advanced</td>\n    </tr>\n    <tr>\n      <td>1</td>\n      <td>Engineering Work</td>\n      <td>High School</td>\n      <td>Advanced</td>\n      <td>Beginner</td>\n    </tr>\n  </tbody>\n</table>\n</div>"
     },
     "metadata": {},
     "output_type": "execute_result",
     "execution_count": 10
    }
   ],
   "source": [
    "pipeline = [\n",
    "    {'$unwind': '$profile'},\n",
    "    {'$project': {\n",
    "        'aim': '$profile.aim', \n",
    "        'highest_education': '$profile.highest_education', \n",
    "        'sci_tech_exp': '$profile.sci_tech_exp', \n",
    "        'phase_transform_exp': '$profile.phase_transform_exp',\n",
    "        '_id': 0\n",
    "        }\n",
    "    },\n",
    "]\n",
    "\n",
    "res = db[collection].aggregate(pipeline)\n",
    "profile_df = pd.DataFrame(list(res))\n",
    "profile_df"
   ]
  },
  {
   "cell_type": "code",
   "execution_count": 39,
   "metadata": {
    "pycharm": {
     "is_executing": false
    }
   },
   "outputs": [
    {
     "data": {
      "text/plain": "<IPython.lib.display.IFrame at 0x7fda8fa17f90>",
      "text/html": "\n        <iframe\n            width=\"1200px\"\n            height=\"800px\"\n            src=\"https://plot.ly/~codeninja55/26.embed\"\n            frameborder=\"0\"\n            allowfullscreen\n        ></iframe>\n        "
     },
     "metadata": {},
     "output_type": "execute_result",
     "execution_count": 39
    }
   ],
   "source": [
    "# layout = go.Layout(\n",
    "#     title='User Profile Aim',\n",
    "#     xaxis=dict(title='User Aims'),\n",
    "#     yaxis=dict(title='Count')\n",
    "# )\n",
    "\n",
    "# fig = go.Figure(layout=layout)\n",
    "fig = make_subplots(\n",
    "    rows=2, \n",
    "    cols=2,\n",
    "    subplot_titles=[\n",
    "        'Aim', \n",
    "        'Highest Education', \n",
    "        'Science Tech. Experience',\n",
    "        'Phase Transform Experience'\n",
    "    ]\n",
    ")\n",
    "\n",
    "trace_aim = go.Histogram(\n",
    "    x=profile_df['aim'],\n",
    ")\n",
    "trace_edu = go.Histogram(x=profile_df['highest_education'])\n",
    "trace_sci = go.Histogram(x=profile_df['sci_tech_exp'])\n",
    "trace_pha = go.Histogram(x=profile_df['phase_transform_exp'])\n",
    "\n",
    "fig.add_trace(trace_aim, row=1, col=1)\n",
    "fig.add_trace(trace_edu, row=1, col=2)\n",
    "fig.add_trace(trace_sci, row=2, col=1)\n",
    "fig.add_trace(trace_pha, row=2, col=2)\n",
    "\n",
    "fig.update_layout(\n",
    "    height=800,\n",
    "    width=1200,\n",
    "    showlegend=False,\n",
    "    title_text=\"User Profile Answers\"\n",
    ")\n",
    "\n",
    "py.iplot(fig, filename='user_profile_aim')\n",
    "# pio.write_image(fig, file='user_profile_aim.png')"
   ]
  },
  {
   "cell_type": "code",
   "execution_count": 39,
   "metadata": {},
   "outputs": [],
   "source": []
  }
 ],
 "metadata": {
  "kernelspec": {
   "display_name": "Python 3",
   "language": "python",
   "name": "python3"
  },
  "language_info": {
   "codemirror_mode": {
    "name": "ipython",
    "version": 3
   },
   "file_extension": ".py",
   "mimetype": "text/x-python",
   "name": "python",
   "nbconvert_exporter": "python",
   "pygments_lexer": "ipython3",
   "version": "3.7.3"
  },
  "pycharm": {
   "stem_cell": {
    "cell_type": "raw",
    "source": [],
    "metadata": {
     "collapsed": false
    }
   }
  }
 },
 "nbformat": 4,
 "nbformat_minor": 4
}
